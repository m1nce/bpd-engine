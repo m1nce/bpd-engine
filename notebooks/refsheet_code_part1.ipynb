{
 "cells": [
  {
   "cell_type": "markdown",
   "id": "2092968a",
   "metadata": {},
   "source": [
    "# Reference Sheet for DSC 10\n",
    "\n",
    "Side notes: \n",
    "* should `bpd.DataFrame.append()` be added to the **Building and Organizing DataFrames** section? probably no? I feel that it is not introduced in this class (dsc80)\n",
    "* replace % of data in certain standard deviation ranges with a for loop?\n",
    "* add NaN values and 0 in the example DataFrame `pets`?\n",
    "* add a disctionary section and a data format conversion section?"
   ]
  },
  {
   "cell_type": "markdown",
   "id": "e0b5fbaa",
   "metadata": {},
   "source": [
    "<a id='table of contents'></a>\n",
    "## Table of Contents\n",
    "### !! Table of Contents does not work in Github !!\n",
    "1. [Building and Organizing DataFrames](#building-and-organizing-dataframes)\n",
    "2. [Accessing Data](#accessing-data)\n",
    "3. [Series Methods](#series-methods)\n",
    "4. [Arrays and NumPy](#arrays-and-numpy)\n",
    "5. [Querying](#querying)\n",
    "6. [Plotting](#plotting)\n",
    "7. [Grouping](#grouping)\n",
    "8. [Writing Functions](#writing-functions)\n",
    "9. [Applying Functions](#applying-functions)\n",
    "10. [for-loops and if-statements](#for-loops-and-if-statements) #split this into two sections\n",
    "11. [Random Sampling](#random-sampling)\n",
    "12. [Bootstrapping and Confidence Intervals](#bootstrapping-and-confidence-intervals)\n",
    "13. [Statistics, Hypothesis Testing, and Permutation Testing](#statistics-hypothesis-testing-and-permutation-testing)\n",
    "14. [Spread of a Distribution](#spread-of-a-distribution)\n",
    "15. [Standard Units, Correlation, Regression](#standard-units-correlation-regression)\n",
    "16. [The Standard Normal Distribution](#the-standard-normal-distribution)\n",
    "17. [The Central Limit Theorem](#the-central-limit-theorem)"
   ]
  },
  {
   "cell_type": "code",
   "execution_count": null,
   "id": "4799241e",
   "metadata": {},
   "outputs": [],
   "source": [
    "import babypandas as bpd\n",
    "import numpy as np\n",
    "import matplotlib.pyplot as plt"
   ]
  },
  {
   "cell_type": "markdown",
   "id": "72a0688a",
   "metadata": {},
   "source": [
    "<a id='building-and-organizing-dataframes'></a>\n",
    "## Building and Organizing DataFrames\n",
    "<small>(<a href=\"#table of contents\">return to the table of contents</a>)</small>"
   ]
  },
  {
   "cell_type": "code",
   "execution_count": null,
   "id": "8a635054",
   "metadata": {},
   "outputs": [],
   "source": [
    "pets = bpd.read_csv(\"pets.csv\")\n",
    "pets"
   ]
  },
  {
   "cell_type": "code",
   "execution_count": null,
   "id": "b9512b3a",
   "metadata": {},
   "outputs": [],
   "source": [
    "pets = bpd.DataFrame().assign(\n",
    "    Species=['dog', 'cat', 'cat', 'dog', 'dog', 'hamster', 'hamster'],\n",
    "    Color=['black', 'golden', 'black', 'white', 'black', 'black', 'golden'],\n",
    "    Weight=[40, 15, 20, 80, 25, 1, 0.25],\n",
    "    Age=[5, 8, 9, 2, 0.5, 3, 0.2]\n",
    ")\n",
    "pets"
   ]
  },
  {
   "cell_type": "code",
   "execution_count": null,
   "id": "e8695fdd",
   "metadata": {},
   "outputs": [],
   "source": [
    "pets = pets.assign(ID=['dog_001', 'cat_001', 'cat_002', 'dog_002', 'dog_003', 'ham_001', 'ham_002'],\n",
    "                   New_column_1=['this', 'is', 'a', 'new', 'column', 'I', 'assigned'], \n",
    "                  New_column_2=['this', 'is', 'another', 'new', 'column', 'I', 'assigned'])\n",
    "pets"
   ]
  },
  {
   "cell_type": "code",
   "execution_count": null,
   "id": "3bb7265e",
   "metadata": {},
   "outputs": [],
   "source": [
    "pets = pets.drop(columns=['New_column_1', 'New_column_2'])\n",
    "pets"
   ]
  },
  {
   "cell_type": "code",
   "execution_count": null,
   "id": "8056d536",
   "metadata": {},
   "outputs": [],
   "source": [
    "pets=pets.set_index('ID')\n",
    "pets"
   ]
  },
  {
   "cell_type": "code",
   "execution_count": null,
   "id": "2118d804",
   "metadata": {},
   "outputs": [],
   "source": [
    "pets=pets.reset_index()\n",
    "pets"
   ]
  },
  {
   "cell_type": "code",
   "execution_count": null,
   "id": "a39cb40c",
   "metadata": {},
   "outputs": [],
   "source": [
    "pets.sort_values(by='Weight', ascending=True)"
   ]
  },
  {
   "cell_type": "code",
   "execution_count": null,
   "id": "19bca9ab",
   "metadata": {},
   "outputs": [],
   "source": [
    "pets.sort_values(by='Age', ascending=False)"
   ]
  },
  {
   "cell_type": "code",
   "execution_count": null,
   "id": "ad56e07c",
   "metadata": {},
   "outputs": [],
   "source": [
    "pets_info = bpd.DataFrame().assign(\n",
    "    Pet_ID=['dog_001', 'cat_001', 'cat_002', 'dog_002', 'dog_003', 'ham_001'],\n",
    "    Breed=['Labrador', 'Sphinx', 'Siamese', 'Chihuahua', 'Labrador', 'Roborovski'],\n",
    "    Owner=['Jason', 'Lauren', 'Cassidy', 'Bobby', 'Dhruv', 'Cassidy']\n",
    ")\n",
    "pets_info"
   ]
  },
  {
   "cell_type": "code",
   "execution_count": null,
   "id": "894b4b10",
   "metadata": {},
   "outputs": [],
   "source": [
    "pets.merge(pets_info, left_on='ID', right_on='Pet_ID')"
   ]
  },
  {
   "cell_type": "code",
   "execution_count": null,
   "id": "089cc278",
   "metadata": {},
   "outputs": [],
   "source": [
    "pets_info = pets_info.set_index('Pet_ID')\n",
    "pets.merge(pets_info, left_on='ID', right_index=True)"
   ]
  },
  {
   "cell_type": "code",
   "execution_count": null,
   "id": "7272db46",
   "metadata": {},
   "outputs": [],
   "source": [
    "pets=pets.set_index('ID')\n",
    "pets"
   ]
  },
  {
   "cell_type": "markdown",
   "id": "c39400f9",
   "metadata": {},
   "source": [
    "<a id='accessing-data'></a>\n",
    "## Accessing Data\n",
    "<small>(<a href=\"#table of contents\">return to the table of contents</a>)</small>"
   ]
  },
  {
   "cell_type": "code",
   "execution_count": null,
   "id": "2cf75791",
   "metadata": {},
   "outputs": [],
   "source": [
    "pets.shape[0], pets.shape[1]"
   ]
  },
  {
   "cell_type": "code",
   "execution_count": null,
   "id": "bfe91d5c",
   "metadata": {},
   "outputs": [],
   "source": [
    "pets.get('Species')"
   ]
  },
  {
   "cell_type": "code",
   "execution_count": null,
   "id": "2d0dbce4",
   "metadata": {},
   "outputs": [],
   "source": [
    "#new\n",
    "pets.get(['Species'])"
   ]
  },
  {
   "cell_type": "code",
   "execution_count": null,
   "id": "84405b52",
   "metadata": {},
   "outputs": [],
   "source": [
    "pets.get(['Species', 'Color'])"
   ]
  },
  {
   "cell_type": "code",
   "execution_count": null,
   "id": "c06c56d9",
   "metadata": {},
   "outputs": [],
   "source": [
    "species_ser=pets.get('Species')\n",
    "species_ser"
   ]
  },
  {
   "cell_type": "code",
   "execution_count": null,
   "id": "e4bcb865",
   "metadata": {},
   "outputs": [],
   "source": [
    "species_ser.loc['dog_002']"
   ]
  },
  {
   "cell_type": "code",
   "execution_count": null,
   "id": "4f70b7c6",
   "metadata": {},
   "outputs": [],
   "source": [
    "species_ser.iloc[2]"
   ]
  },
  {
   "cell_type": "code",
   "execution_count": null,
   "id": "b517978f",
   "metadata": {},
   "outputs": [],
   "source": [
    "species_ser.iloc[-1]"
   ]
  },
  {
   "cell_type": "code",
   "execution_count": null,
   "id": "2a21cc3d",
   "metadata": {},
   "outputs": [],
   "source": [
    "pets.index[0]"
   ]
  },
  {
   "cell_type": "code",
   "execution_count": null,
   "id": "2b4c5952",
   "metadata": {},
   "outputs": [],
   "source": [
    "pets.index[-3]"
   ]
  },
  {
   "cell_type": "code",
   "execution_count": null,
   "id": "9ff8b9d7",
   "metadata": {},
   "outputs": [],
   "source": [
    "pets.take([0, 3])"
   ]
  },
  {
   "cell_type": "code",
   "execution_count": null,
   "id": "bf1b566e",
   "metadata": {},
   "outputs": [],
   "source": [
    "pets.take(np.arange(0, 6, 2))"
   ]
  },
  {
   "cell_type": "code",
   "execution_count": null,
   "id": "f41a660c",
   "metadata": {},
   "outputs": [],
   "source": [
    "pets[[True, False, True, False, True, False, True]]"
   ]
  },
  {
   "cell_type": "code",
   "execution_count": null,
   "id": "0a5eea58",
   "metadata": {},
   "outputs": [],
   "source": [
    "weight_ser = pets.get('Weight')\n",
    "weight_ser"
   ]
  },
  {
   "cell_type": "markdown",
   "id": "1725e155",
   "metadata": {},
   "source": [
    "<a id='series-methods'></a>\n",
    "## Series Methods\n",
    "<small>(<a href=\"#table of contents\">return to the table of contents</a>)</small>"
   ]
  },
  {
   "cell_type": "code",
   "execution_count": null,
   "id": "650200c7",
   "metadata": {},
   "outputs": [],
   "source": [
    "weight_ser.count()"
   ]
  },
  {
   "cell_type": "code",
   "execution_count": null,
   "id": "21c4d372",
   "metadata": {},
   "outputs": [],
   "source": [
    "weight_ser.max()"
   ]
  },
  {
   "cell_type": "code",
   "execution_count": null,
   "id": "106d8633",
   "metadata": {},
   "outputs": [],
   "source": [
    "weight_ser.min()"
   ]
  },
  {
   "cell_type": "code",
   "execution_count": null,
   "id": "27c5cb20",
   "metadata": {},
   "outputs": [],
   "source": [
    "weight_ser.sum()"
   ]
  },
  {
   "cell_type": "code",
   "execution_count": null,
   "id": "436dffec",
   "metadata": {},
   "outputs": [],
   "source": [
    "weight_ser.mean()"
   ]
  },
  {
   "cell_type": "code",
   "execution_count": null,
   "id": "1d601919",
   "metadata": {},
   "outputs": [],
   "source": [
    "weight_ser.median()"
   ]
  },
  {
   "cell_type": "code",
   "execution_count": null,
   "id": "126250b7",
   "metadata": {},
   "outputs": [],
   "source": [
    "weight_ser.unique()"
   ]
  },
  {
   "cell_type": "markdown",
   "id": "dc379093",
   "metadata": {},
   "source": [
    "<a id='arrays-and-numpy'></a>\n",
    "## Arrays and NumPy\n",
    "<small>(<a href=\"#table of contents\">return to the table of contents</a>)</small>"
   ]
  },
  {
   "cell_type": "code",
   "execution_count": null,
   "id": "6ff3667a",
   "metadata": {
    "scrolled": true
   },
   "outputs": [],
   "source": [
    "weight_arr = np.array(weight_ser)\n",
    "weight_arr"
   ]
  },
  {
   "cell_type": "code",
   "execution_count": null,
   "id": "98d05f38",
   "metadata": {},
   "outputs": [],
   "source": [
    "np.append(weight_arr, 2)"
   ]
  },
  {
   "cell_type": "code",
   "execution_count": null,
   "id": "4165db11",
   "metadata": {},
   "outputs": [],
   "source": [
    "#to do: add 0s and NaNs\n",
    "np.count_nonzero(weight_arr)"
   ]
  },
  {
   "cell_type": "code",
   "execution_count": null,
   "id": "c87bcb53",
   "metadata": {},
   "outputs": [],
   "source": [
    "np.arange(1, 9, 2)"
   ]
  },
  {
   "cell_type": "code",
   "execution_count": null,
   "id": "1258b8bd",
   "metadata": {},
   "outputs": [],
   "source": [
    "np.arange(10, 2, -3)"
   ]
  },
  {
   "cell_type": "code",
   "execution_count": null,
   "id": "2ee62723",
   "metadata": {},
   "outputs": [],
   "source": [
    "np.percentile(weight_arr, 50)"
   ]
  },
  {
   "cell_type": "markdown",
   "id": "c1535bc1",
   "metadata": {},
   "source": [
    "## Dictionary (new)\n",
    "<small>(<a href=\"#table of contents\">return to the table of contents</a>)</small>"
   ]
  },
  {
   "cell_type": "markdown",
   "id": "ab51a2f5",
   "metadata": {},
   "source": [
    "## Data Format Conversion (new)\n",
    "<small>(<a href=\"#table of contents\">return to the table of contents</a>)</small>"
   ]
  },
  {
   "cell_type": "markdown",
   "id": "c877f10c",
   "metadata": {},
   "source": [
    "<a id='querying'></a>\n",
    "## Querying\n",
    "<small>(<a href=\"#table of contents\">return to the table of contents</a>)</small>"
   ]
  },
  {
   "cell_type": "code",
   "execution_count": null,
   "id": "4559b0dc",
   "metadata": {},
   "outputs": [],
   "source": [
    "(pets.get('Species')=='dog') & (pets.get('Color')=='white')"
   ]
  },
  {
   "cell_type": "code",
   "execution_count": null,
   "id": "72c3a688",
   "metadata": {},
   "outputs": [],
   "source": [
    "(pets.get('Species')=='dog') | (pets.get('Color')=='white')"
   ]
  },
  {
   "cell_type": "code",
   "execution_count": null,
   "id": "3a2539c6",
   "metadata": {},
   "outputs": [],
   "source": [
    "pets[(pets.get('Species')=='dog') & (pets.get('Color')=='white')]"
   ]
  },
  {
   "cell_type": "code",
   "execution_count": null,
   "id": "3974fca6",
   "metadata": {},
   "outputs": [],
   "source": [
    "pets[(pets.get('Species')=='dog') | (pets.get('Color')=='white')]"
   ]
  },
  {
   "cell_type": "code",
   "execution_count": null,
   "id": "bc8ebafd",
   "metadata": {},
   "outputs": [],
   "source": [
    "pets[pets.get('Weight') >= 25]"
   ]
  },
  {
   "cell_type": "code",
   "execution_count": null,
   "id": "540563ed",
   "metadata": {},
   "outputs": [],
   "source": [
    "pets[(pets.get('Weight') >= 25) &  (pets.get('Weight') < 80)]"
   ]
  },
  {
   "cell_type": "code",
   "execution_count": null,
   "id": "44fa3d3f",
   "metadata": {},
   "outputs": [],
   "source": [
    "pets[pets.get('Color').str.contains('e')]"
   ]
  },
  {
   "cell_type": "code",
   "execution_count": null,
   "id": "606049f8",
   "metadata": {},
   "outputs": [],
   "source": [
    "pets[pets.index.str.contains('cat')]"
   ]
  },
  {
   "cell_type": "code",
   "execution_count": null,
   "id": "b2377da0",
   "metadata": {},
   "outputs": [],
   "source": [
    "pets = pets.reset_index()\n",
    "pets[pets.index > 3]"
   ]
  },
  {
   "cell_type": "markdown",
   "id": "dd7a2921",
   "metadata": {},
   "source": [
    "<a id='plotting'></a>\n",
    "## Plotting\n",
    "<small>(<a href=\"#table of contents\">return to the table of contents</a>)</small>"
   ]
  },
  {
   "cell_type": "code",
   "execution_count": null,
   "id": "06a4ff41",
   "metadata": {},
   "outputs": [],
   "source": [
    "pets.plot(kind='scatter', x='Age', y='Weight')"
   ]
  },
  {
   "cell_type": "code",
   "execution_count": null,
   "id": "dc5b8222",
   "metadata": {},
   "outputs": [],
   "source": [
    "pets.plot(kind='hist', y='Age', bins=np.arange(0, 15, 3), density=True)"
   ]
  },
  {
   "cell_type": "code",
   "execution_count": null,
   "id": "f4f39bd0",
   "metadata": {},
   "outputs": [],
   "source": [
    "pets.plot(kind='hist', y='Weight', bins=5, density=True)"
   ]
  },
  {
   "cell_type": "markdown",
   "id": "e40524c7",
   "metadata": {},
   "source": [
    "<a id='grouping'></a>\n",
    "## Grouping\n",
    "<small>(<a href=\"#table of contents\">return to the table of contents</a>)</small>"
   ]
  },
  {
   "cell_type": "code",
   "execution_count": null,
   "id": "2ce0b4d3",
   "metadata": {},
   "outputs": [],
   "source": [
    "pets.groupby('Species').count()"
   ]
  },
  {
   "cell_type": "code",
   "execution_count": null,
   "id": "628ffdde",
   "metadata": {},
   "outputs": [],
   "source": [
    "pets.groupby('Species').mean()"
   ]
  },
  {
   "cell_type": "code",
   "execution_count": null,
   "id": "ac8d582d",
   "metadata": {},
   "outputs": [],
   "source": [
    "pets.groupby('Species').median()"
   ]
  },
  {
   "cell_type": "code",
   "execution_count": null,
   "id": "7a0f11f2",
   "metadata": {},
   "outputs": [],
   "source": [
    "pets.groupby('Species').sum()"
   ]
  },
  {
   "cell_type": "code",
   "execution_count": null,
   "id": "76850269",
   "metadata": {},
   "outputs": [],
   "source": [
    "pets.groupby('Species').max()"
   ]
  },
  {
   "cell_type": "code",
   "execution_count": null,
   "id": "14d926f3",
   "metadata": {},
   "outputs": [],
   "source": [
    "pets.groupby('Species').min()"
   ]
  },
  {
   "cell_type": "code",
   "execution_count": null,
   "id": "89a5758d",
   "metadata": {},
   "outputs": [],
   "source": [
    "pets.groupby(['Species', 'Color']).count().reset_index()"
   ]
  },
  {
   "cell_type": "markdown",
   "id": "5d6047b9",
   "metadata": {},
   "source": [
    "<a id='writing-functions'></a>\n",
    "## Writing Functions\n",
    "<small>(<a href=\"#table of contents\">return to the table of contents</a>)</small>"
   ]
  },
  {
   "cell_type": "code",
   "execution_count": null,
   "id": "2f3b6a94",
   "metadata": {},
   "outputs": [],
   "source": [
    "def descriptive_name(df):\n",
    "    descriptive_string = df.get('Color')+'_'+df.get('Species')\n",
    "    return descriptive_string\n",
    "descriptive_name(pets)"
   ]
  },
  {
   "cell_type": "code",
   "execution_count": null,
   "id": "4a7bbf70",
   "metadata": {},
   "outputs": [],
   "source": [
    "#to do: change to a more complex task\n",
    "def age_in_days(ser):\n",
    "    return 365*ser\n",
    "pets.get('Age').apply(age_in_days)"
   ]
  },
  {
   "cell_type": "code",
   "execution_count": null,
   "id": "14707555",
   "metadata": {},
   "outputs": [],
   "source": [
    "def more_descriptive_name(id_str, species, color, weight, age):\n",
    "    return id_str + ': This ' + color + ' ' + species + ' weighs ' + weight + ' lbs and is ' + age + ' years old'"
   ]
  },
  {
   "cell_type": "markdown",
   "id": "455267e2",
   "metadata": {},
   "source": [
    "<a id='applying-functions'></a>\n",
    "## Applying Functions\n",
    "<small>(<a href=\"#table of contents\">return to the table of contents</a>)</small>"
   ]
  },
  {
   "cell_type": "code",
   "execution_count": null,
   "id": "b4190f6a",
   "metadata": {},
   "outputs": [],
   "source": [
    "chosen_pet = pets.iloc[0]\n",
    "more_descriptive_name(chosen_pet.get('ID'), chosen_pet.get('Species'), chosen_pet.get('Color'), \\\n",
    "                      str(chosen_pet.get('Weight')), str(chosen_pet.get('Age')))\n",
    "\n"
   ]
  },
  {
   "cell_type": "markdown",
   "id": "c99bf660",
   "metadata": {},
   "source": [
    "<a id='for-loops-and-if-statements'></a>\n",
    "## for-loops and if-statements\n",
    "<small>(<a href=\"#table of contents\">return to the table of contents</a>)</small>"
   ]
  },
  {
   "cell_type": "code",
   "execution_count": null,
   "id": "d1c10af4",
   "metadata": {},
   "outputs": [],
   "source": [
    "#to do: make it two different examples, one for for loop and one for if else\n",
    "for i in np.arange(pets.shape[0]):\n",
    "    chosen_pet = pets.iloc[i]\n",
    "    pet_id = chosen_pet.get('ID')\n",
    "    species = chosen_pet.get('Species')\n",
    "    age = chosen_pet.get('Age')\n",
    "    weight = chosen_pet.get('Weight')\n",
    "    \n",
    "    if (age < 1) and (weight < 1):\n",
    "        print(pet_id + ': This pet is a baby :)')\n",
    "        \n",
    "    elif (species == 'dog') or (species == 'cat'):\n",
    "        color = chosen_pet.get('Color')\n",
    "        weight = str(weight)\n",
    "        age = str(age)\n",
    "        print(more_descriptive_name(pet_id, species, color, weight, age))\n",
    "        \n",
    "    else:\n",
    "        print(pet_id + ': This pet is not a dog or a cat')"
   ]
  },
  {
   "cell_type": "markdown",
   "id": "f7e9e80f",
   "metadata": {},
   "source": [
    "<a id='random-sampling'></a>\n",
    "## Random Sampling\n",
    "<small>(<a href=\"#table of contents\">return to the table of contents</a>)</small>"
   ]
  },
  {
   "cell_type": "code",
   "execution_count": null,
   "id": "61ed7bfb",
   "metadata": {},
   "outputs": [],
   "source": [
    "example_array = np.array([1, 2, 3, 4, 5])\n",
    "\n",
    "# choice \n",
    "\n",
    "np.random.choice(example_array, 3, replace=True)"
   ]
  },
  {
   "cell_type": "code",
   "execution_count": null,
   "id": "c6ec0eaf",
   "metadata": {},
   "outputs": [],
   "source": [
    "np.random.choice(example_array, 3, replace=False)"
   ]
  },
  {
   "cell_type": "code",
   "execution_count": null,
   "id": "2ffcec22",
   "metadata": {},
   "outputs": [],
   "source": [
    "np.random.choice(example_array, 3, replace=True, p=[0.05, 0.05, 0.05, 0.05, 0.8])"
   ]
  },
  {
   "cell_type": "code",
   "execution_count": null,
   "id": "898fe2e3",
   "metadata": {},
   "outputs": [],
   "source": [
    "np.random.choice(example_array, 3, replace=True, p=[0, 0, 0, 0, 1])"
   ]
  },
  {
   "cell_type": "code",
   "execution_count": null,
   "id": "634f665d",
   "metadata": {},
   "outputs": [],
   "source": [
    "# multinomial\n",
    "\n",
    "np.random.multinomial(100, [0.2, 0.5, 0.3])"
   ]
  },
  {
   "cell_type": "code",
   "execution_count": null,
   "id": "edb5bd5c",
   "metadata": {},
   "outputs": [],
   "source": [
    "np.random.multinomial(100, [0.1, 0.1, 0.8]) "
   ]
  },
  {
   "cell_type": "code",
   "execution_count": null,
   "id": "e0554a1b",
   "metadata": {},
   "outputs": [],
   "source": [
    "# permutation\n",
    "\n",
    "for i in range(5):\n",
    "    print(f'{i + 1}st random permutation:')\n",
    "    print(np.random.permutation(example_array), end='\\n\\n')"
   ]
  },
  {
   "cell_type": "code",
   "execution_count": null,
   "id": "e0d205cd",
   "metadata": {},
   "outputs": [],
   "source": [
    "pets.sample(3, replace=True)"
   ]
  },
  {
   "cell_type": "code",
   "execution_count": null,
   "id": "247e9168",
   "metadata": {},
   "outputs": [],
   "source": [
    "pets.sample(3, replace=False)"
   ]
  },
  {
   "cell_type": "markdown",
   "id": "36bee56e",
   "metadata": {},
   "source": [
    "<a id='bootstrapping-and-confidence-intervals'></a>\n",
    "## Bootstrapping and Confidence Intervals\n",
    "<small>(<a href=\"#table of contents\">return to the table of contents</a>)</small>"
   ]
  },
  {
   "cell_type": "code",
   "execution_count": null,
   "id": "8185a3e3",
   "metadata": {},
   "outputs": [],
   "source": [
    "pets"
   ]
  },
  {
   "cell_type": "code",
   "execution_count": null,
   "id": "654f7e79",
   "metadata": {},
   "outputs": [],
   "source": [
    "extra_pets = bpd.DataFrame().assign(\n",
    "    ID=['dog_004', 'dog_005', 'dog_006', 'cat_003', 'cat_004', 'ham_003', 'dog_007', 'ham_004', 'dog_008', 'dog_009', 'cat_005'],\n",
    "    Species=['dog', 'dog', 'dog', 'cat', 'cat', 'hamster', 'dog', 'hamster', 'dog', 'dog', 'cat'],\n",
    "    Color=['black', 'white', 'golden', 'black', 'white', 'black', 'white', 'golden', 'black', 'white', 'black'],\n",
    "    Weight=[45, 10, 35, 10, 15, 0.5, 50, 0.25, 40, 30, 5],\n",
    "    Age=[6.7, 7.0, 4.0, 1.2, 2.9, 0.1, 6.1, 0.2, 5.0, 4.8, 0.5]\n",
    ")\n",
    "\n",
    "all_pets = pets.append(extra_pets, ignore_index=True)\n",
    "\n",
    "all_pets"
   ]
  },
  {
   "cell_type": "code",
   "execution_count": null,
   "id": "c5dd0dde",
   "metadata": {},
   "outputs": [],
   "source": [
    "# Magic to ensure that we get the same results every time this code is run. \n",
    "np.random.seed(42)\n",
    "\n",
    "# sample\n",
    "pets_sample = all_pets.sample(12, replace=False)\n",
    "pets_sample"
   ]
  },
  {
   "cell_type": "code",
   "execution_count": null,
   "id": "93113124",
   "metadata": {},
   "outputs": [],
   "source": [
    "print('Median of pets weight:', all_pets.get('Weight').median())\n",
    "print('Median of pets_sample weight:', pets_sample.get('Weight').median())"
   ]
  },
  {
   "cell_type": "code",
   "execution_count": null,
   "id": "0c204f1f",
   "metadata": {},
   "outputs": [],
   "source": [
    "boot_medians = np.array([])\n",
    "for i in np.arange(10000):\n",
    "    # 1. resample the data\n",
    "    resample = pets_sample.sample(pets_sample.shape[0], replace=True)\n",
    "\n",
    "    # 2. calculate the median of the resample\n",
    "    boot_median = resample.get('Weight').median()\n",
    "\n",
    "    # 3. append the median to the array\n",
    "    boot_medians = np.append(boot_medians, boot_median)"
   ]
  },
  {
   "cell_type": "code",
   "execution_count": null,
   "id": "601f2dde",
   "metadata": {},
   "outputs": [],
   "source": [
    "# Get the 90% confidence interval\n",
    "left = np.percentile(boot_medians, 5) # 5th percentile\n",
    "right = np.percentile(boot_medians, 95) # 95th percentile"
   ]
  },
  {
   "cell_type": "code",
   "execution_count": null,
   "id": "6771f664",
   "metadata": {},
   "outputs": [],
   "source": [
    "left, right"
   ]
  },
  {
   "cell_type": "code",
   "execution_count": null,
   "id": "f771c409",
   "metadata": {},
   "outputs": [],
   "source": [
    "# Plot the histogram of boot_medians\n",
    "plt.hist(boot_medians, bins=20, density=True)\n",
    "\n",
    "plt.show()"
   ]
  },
  {
   "cell_type": "markdown",
   "id": "65ccacc3",
   "metadata": {},
   "source": [
    "We are 90% confident that the population weight median will fall between 15 and 40."
   ]
  },
  {
   "cell_type": "markdown",
   "id": "e6a58871",
   "metadata": {},
   "source": [
    "<a id='statistics-hypothesis-testing-and-permutation-testing'></a>\n",
    "## Statistics, Hypothesis Testing, and Permutation Testing\n",
    "<small>(<a href=\"#table of contents\">return to the table of contents</a>)</small>"
   ]
  },
  {
   "cell_type": "markdown",
   "id": "b1a01e5d",
   "metadata": {},
   "source": [
    "Our pair of hypotheses is:\n",
    "* **Null Hypothesis:** The mean weights of dogs and cats are the *same*.\n",
    "* **Alternative Hypothesis:** The mean weights of dogs and cats are *different*.\n",
    "\n",
    "In other words:\n",
    "* **Null Hypothesis:** $\\mu_{dog\\_weight} = \\mu_{cat\\_weight}$ <br>\n",
    "* **Alternative Hypothesis:** $\\mu_{dog\\_weight} \\neq \\mu_{cat\\_weight}$\n",
    "\n",
    "Since the alternative hypothesis is of the form \"A and B are different,\" the test statistic should measure distance and should contain an absolute value.\n",
    "\n",
    "***\n",
    "\n",
    "$\\therefore$ Use **absolute difference in group means** as the test statistic."
   ]
  },
  {
   "cell_type": "code",
   "execution_count": null,
   "id": "23373b2b",
   "metadata": {},
   "outputs": [],
   "source": [
    "cats_dogs = all_pets[(all_pets.get('Species') == 'dog') | (all_pets.get('Species') == 'cat')]\n",
    "cats_dogs"
   ]
  },
  {
   "cell_type": "code",
   "execution_count": null,
   "id": "f0ddd289",
   "metadata": {},
   "outputs": [],
   "source": [
    "def difference_in_means(cats_dogs):\n",
    "    means = cats_dogs.groupby('Species').mean()\n",
    "    return np.abs((means.get('Weight').loc['dog'] - means.get('Weight').loc['cat']))"
   ]
  },
  {
   "cell_type": "code",
   "execution_count": null,
   "id": "f2d23ef8",
   "metadata": {},
   "outputs": [],
   "source": [
    "n = 500\n",
    "statistics = np.array([])\n",
    "for i in np.arange(n):\n",
    "    # 1. Shuffle the species.\n",
    "    shuffled = cats_dogs.assign(Species=np.random.permutation(cats_dogs.get('Species')))\n",
    "\n",
    "    # 2. Compute the test statistic.\n",
    "    statistic = difference_in_means(shuffled)\n",
    "\n",
    "    # 3. Save the result.\n",
    "    statistics = np.append(statistics, statistic)"
   ]
  },
  {
   "cell_type": "code",
   "execution_count": null,
   "id": "18b05797",
   "metadata": {},
   "outputs": [],
   "source": [
    "# 4. Calculate the p-value\n",
    "observed = difference_in_means(cats_dogs)\n",
    "p_value = np.count_nonzero(statistics >= observed) / n\n",
    "\n",
    "print(\"The observed value of the test statistic is:\", observed)\n",
    "print(\"The p-value is:\", p_value)"
   ]
  },
  {
   "cell_type": "markdown",
   "id": "dc77db8b",
   "metadata": {},
   "source": [
    "Using an alpha level of 0.05...\n",
    "\n",
    "**Conclusion:** \n",
    "* Under the null hypothesis, we rarely see a difference greater than 26.444 units.\n",
    "* Therefore, we reject the null hypothesis: the evidence implies that the groups do not come for the same distribution.\n",
    "* Still, we cannot conclude that species causes a different weight because there may be other factors at play."
   ]
  },
  {
   "cell_type": "markdown",
   "id": "006d71a9",
   "metadata": {},
   "source": [
    "<a id='spread-of-a-distribution'></a>\n",
    "## Spread of a Distribution\n",
    "<small>(<a href=\"#table of contents\">return to the table of contents</a>)</small>"
   ]
  },
  {
   "cell_type": "markdown",
   "id": "476c04bd",
   "metadata": {},
   "source": [
    "$$\\text{SD} = \\sqrt{\\frac{(value_1-mean)^2 + \\dots + (value_n - mean)^2}{n}}$$"
   ]
  },
  {
   "cell_type": "code",
   "execution_count": null,
   "id": "5ce706c4",
   "metadata": {},
   "outputs": [],
   "source": [
    "weights = all_pets.get('Weight')\n",
    "\n",
    "standard_deviation = np.std(weights, ddof=0)\n",
    "standard_deviation"
   ]
  },
  {
   "cell_type": "code",
   "execution_count": null,
   "id": "9836a7cc",
   "metadata": {},
   "outputs": [],
   "source": [
    "# how to implement the standard deviation formula\n",
    "mean = weights.mean()\n",
    "numerator = 0\n",
    "for value in weights.values:\n",
    "    numerator += (value - mean) ** 2\n",
    "variance = numerator / (all_pets.shape[0])\n",
    "variance ** 0.5 "
   ]
  },
  {
   "cell_type": "code",
   "execution_count": null,
   "id": "138f4b32",
   "metadata": {},
   "outputs": [],
   "source": [
    "weights.plot(kind='hist', bins=5, density=True)"
   ]
  },
  {
   "cell_type": "markdown",
   "id": "4ec62b62",
   "metadata": {},
   "source": [
    "Chebyshev's Inequality states that in any dataset, at least $1 - \\frac{1}{z^2}$ of the data falls within *z* SDs of the mean.\n",
    "\n",
    "| **Range**        | **All Distributions** | **Normal Distribution**|\n",
    "|:-----------------|:----------------------|:-----------------------|\n",
    "|mean $\\pm$ 1 SD   |at least 0%            | about 68%              |\n",
    "|mean $\\pm$ 2 SD   |at least 75%           | about 95%              |\n",
    "|mean $\\pm$ 3 SD   |at least 88%           | about 99.73%           |"
   ]
  },
  {
   "cell_type": "code",
   "execution_count": null,
   "id": "09999726",
   "metadata": {},
   "outputs": [],
   "source": [
    "import matplotlib.pyplot as plt"
   ]
  },
  {
   "cell_type": "code",
   "execution_count": null,
   "id": "311d9bf0",
   "metadata": {},
   "outputs": [],
   "source": [
    "sd_1left = mean - 1*standard_deviation\n",
    "sd_1right = mean + 1*standard_deviation\n",
    "\n",
    "plt.hist(weights, bins=5, density=True, alpha=0.6)\n",
    "plt.axvline(sd_1right, color='green', linestyle='dashed', linewidth=2)\n",
    "plt.axvline(sd_1left, color='green', linestyle='dashed', linewidth=2)\n",
    "\n",
    "plt.show()\n",
    "\n",
    "print(str(((weights > sd_1left) & (weights < sd_1right)).sum()/all_pets.shape[0] * 100) + '% of the data falls within 1 standard deviation of the mean')\n"
   ]
  },
  {
   "cell_type": "code",
   "execution_count": null,
   "id": "36679569",
   "metadata": {},
   "outputs": [],
   "source": [
    "sd_2left = mean - 2*standard_deviation\n",
    "sd_2right = mean + 2*standard_deviation\n",
    "\n",
    "plt.hist(weights, bins=5, density=True, alpha=0.6)\n",
    "plt.axvline(sd_2right, color='green', linestyle='dashed', linewidth=2)\n",
    "plt.axvline(sd_2left, color='green', linestyle='dashed', linewidth=2)\n",
    "\n",
    "plt.show()\n",
    "\n",
    "print(str(((weights > sd_2left) & (weights < sd_2right)).sum()/all_pets.shape[0] * 100) + '% of the data falls within 2 standard deviation of the mean')"
   ]
  },
  {
   "cell_type": "code",
   "execution_count": null,
   "id": "505b7181",
   "metadata": {},
   "outputs": [],
   "source": [
    "sd_3left = mean - 3*standard_deviation\n",
    "sd_3right = mean + 3*standard_deviation\n",
    "\n",
    "plt.hist(weights, bins=5, density=True, alpha=0.6)\n",
    "plt.axvline(sd_3right, color='green', linestyle='dashed', linewidth=2)\n",
    "plt.axvline(sd_3left, color='green', linestyle='dashed', linewidth=2)\n",
    "\n",
    "plt.show()\n",
    "\n",
    "print(str(((weights > sd_3left) & (weights < sd_3right)).sum()/all_pets.shape[0] * 100) + '% of the data falls within 3 standard deviation of the mean')"
   ]
  },
  {
   "cell_type": "markdown",
   "id": "1c301356",
   "metadata": {},
   "source": [
    "<a id='standard-units-correlation-regression'></a>\n",
    "## Standard Units, Correlation, Regression\n",
    "<small>(<a href=\"#table of contents\">return to the table of contents</a>)</small>"
   ]
  },
  {
   "cell_type": "code",
   "execution_count": null,
   "id": "b09d0648",
   "metadata": {},
   "outputs": [],
   "source": [
    "def standard_units(col):\n",
    "    \"Standardizes the units of a column.\"\n",
    "    return (col - col.mean()) / np.std(col)\n",
    "\n",
    "def calculate_r(df, x, y):\n",
    "    '''Returns the average value of the product of x and y, \n",
    "       when both are measured in standard units.'''\n",
    "    x_su = standard_units(df.get(x))\n",
    "    y_su = standard_units(df.get(y))\n",
    "    return (x_su * y_su).mean()\n",
    "\n",
    "def slope(df, x, y):\n",
    "    \"Returns the slope of the regression line between columns x and y in df (in original units).\"\n",
    "    r = calculate_r(df, x, y)\n",
    "    return r * np.std(df.get(y)) / np.std(df.get(x))\n",
    "\n",
    "def intercept(df, x, y):\n",
    "    \"Returns the intercept of the regression line between columns x and y in df (in original units).\"\n",
    "    return df.get(y).mean() - slope(df, x, y) * df.get(x).mean()\n",
    "\n"
   ]
  },
  {
   "cell_type": "code",
   "execution_count": null,
   "id": "df34b9fc",
   "metadata": {},
   "outputs": [],
   "source": [
    "r = calculate_r(all_pets, 'Age', 'Weight')\n",
    "m = slope(all_pets, 'Age', 'Weight')\n",
    "b = intercept(all_pets, 'Age', 'Weight')"
   ]
  },
  {
   "cell_type": "code",
   "execution_count": null,
   "id": "226a8570",
   "metadata": {},
   "outputs": [],
   "source": [
    "def predict_weight(age):\n",
    "    # Predicts the weight of a pet that is 'age' years old.\n",
    "    return m * age + b"
   ]
  },
  {
   "cell_type": "code",
   "execution_count": null,
   "id": "8ba92ccb",
   "metadata": {},
   "outputs": [],
   "source": [
    "all_predictions = np.array([])\n",
    "\n",
    "for age in all_pets.get('Age').values:\n",
    "    all_predictions = np.append(all_predictions, predict_weight(age))"
   ]
  },
  {
   "cell_type": "code",
   "execution_count": null,
   "id": "cfd66a6b",
   "metadata": {},
   "outputs": [],
   "source": [
    "plt.scatter(x=all_pets.get('Age'), y=all_pets.get('Weight'))\n",
    "plt.plot(all_pets.get('Age'), all_predictions, color='red')"
   ]
  },
  {
   "cell_type": "markdown",
   "id": "4f382b9c",
   "metadata": {},
   "source": [
    "<a id='the-standard-normal-distribution'></a>\n",
    "## The Standard Normal Distribution\n",
    "<small>(<a href=\"#table of contents\">return to the table of contents</a>)</small>"
   ]
  },
  {
   "cell_type": "code",
   "execution_count": null,
   "id": "cd8a41d6",
   "metadata": {},
   "outputs": [],
   "source": [
    "import scipy"
   ]
  },
  {
   "cell_type": "code",
   "execution_count": null,
   "id": "b587470a",
   "metadata": {},
   "outputs": [],
   "source": [
    "print(\"Area from -inf to -2:\", scipy.stats.norm.cdf(-2))\n",
    "print(\"Area from -inf to -1:\", scipy.stats.norm.cdf(-1))\n",
    "print(\"Area from -inf to 0:\", scipy.stats.norm.cdf(0))\n",
    "print(\"Area from -inf to 1:\", scipy.stats.norm.cdf(1))\n",
    "print(\"Area from -inf to 2:\", scipy.stats.norm.cdf(2))"
   ]
  },
  {
   "cell_type": "code",
   "execution_count": null,
   "id": "3de139e9",
   "metadata": {},
   "outputs": [],
   "source": [
    "print(\"Area from -1 to 1:\", scipy.stats.norm.cdf(1) - scipy.stats.norm.cdf(-1))\n",
    "print(\"Area from -2 to 2:\", scipy.stats.norm.cdf(2) - scipy.stats.norm.cdf(-2))\n",
    "print(\"Area from -3 to 3:\", scipy.stats.norm.cdf(3) - scipy.stats.norm.cdf(-3))"
   ]
  },
  {
   "cell_type": "markdown",
   "id": "791e6c29",
   "metadata": {},
   "source": [
    "<a id='the-central-limit-theorem'></a>\n",
    "## The Central Limit Theorem\n",
    "<small>(<a href=\"#table of contents\">return to the table of contents</a>)</small>"
   ]
  },
  {
   "cell_type": "code",
   "execution_count": null,
   "id": "532668a4",
   "metadata": {},
   "outputs": [],
   "source": [
    "sd_dist_possible_sample_means = np.std(all_pets.get('Weight'))/all_pets.shape[0]\n",
    "sd_dist_possible_sample_means"
   ]
  },
  {
   "cell_type": "code",
   "execution_count": null,
   "id": "af97eca1",
   "metadata": {},
   "outputs": [],
   "source": [
    "#this sample size may not be large enough\n",
    "pets_sample = all_pets.sample(12, replace=True)\n",
    "pets_sample"
   ]
  },
  {
   "cell_type": "code",
   "execution_count": null,
   "id": "39042fb5",
   "metadata": {},
   "outputs": [],
   "source": [
    "# 95% confidence interval\n",
    "left = pets_sample.get('Weight').mean() - 2*sd_dist_possible_sample_means\n",
    "right = pets_sample.get('Weight').mean() + 2*sd_dist_possible_sample_means\n",
    "\n",
    "print(\"95% confidence interval: \" + \"[\" + str(left) + \", \" + str(right) + \"]\")"
   ]
  },
  {
   "cell_type": "code",
   "execution_count": null,
   "id": "f9a4cb9e",
   "metadata": {},
   "outputs": [],
   "source": [
    "print(\"Population mean: \" + str(all_pets.get('Weight').mean()))"
   ]
  }
 ],
 "metadata": {
  "kernelspec": {
   "display_name": "Python 3 (ipykernel)",
   "language": "python",
   "name": "python3"
  },
  "language_info": {
   "codemirror_mode": {
    "name": "ipython",
    "version": 3
   },
   "file_extension": ".py",
   "mimetype": "text/x-python",
   "name": "python",
   "nbconvert_exporter": "python",
   "pygments_lexer": "ipython3",
   "version": "3.8.18"
  }
 },
 "nbformat": 4,
 "nbformat_minor": 5
}
